{
 "cells": [
  {
   "cell_type": "code",
   "execution_count": 1,
   "metadata": {},
   "outputs": [],
   "source": [
    "import requests\n",
    "import json"
   ]
  },
  {
   "cell_type": "code",
   "execution_count": 9,
   "metadata": {},
   "outputs": [],
   "source": [
    "\n",
    "from datetime import datetime, time\n",
    "import time"
   ]
  },
  {
   "cell_type": "code",
   "execution_count": 11,
   "metadata": {},
   "outputs": [
    {
     "data": {
      "text/plain": [
       "1652065833.0787396"
      ]
     },
     "execution_count": 11,
     "metadata": {},
     "output_type": "execute_result"
    }
   ],
   "source": [
    "time.time()"
   ]
  },
  {
   "cell_type": "code",
   "execution_count": 16,
   "metadata": {},
   "outputs": [],
   "source": [
    "url = 'https://weather.visualcrossing.com/VisualCrossingWebServices/rest/services/timeline/'\n",
    "location = '9908%20W%2060th%20St%2C%20Merriam%2C%20KS%2066203'\n",
    "params = {\n",
    "    'unitGroup': 'us',\n",
    "    'key': 'PZFJTFL4P37373PK2P7PNJFFT',\n",
    "    'contentType': 'json'\n",
    "}\n",
    "\n",
    "\n",
    "response = requests.get(f'{url}{location}', params = params)\n",
    "hourly = json.loads(response.content)"
   ]
  },
  {
   "cell_type": "code",
   "execution_count": 20,
   "metadata": {},
   "outputs": [
    {
     "name": "stdout",
     "output_type": "stream",
     "text": [
      "datetime\n",
      "datetimeEpoch\n",
      "tempmax\n",
      "tempmin\n",
      "temp\n",
      "feelslikemax\n",
      "feelslikemin\n",
      "feelslike\n",
      "dew\n",
      "humidity\n",
      "precip\n",
      "precipprob\n",
      "precipcover\n",
      "preciptype\n",
      "snow\n",
      "snowdepth\n",
      "windgust\n",
      "windspeed\n",
      "winddir\n",
      "pressure\n",
      "cloudcover\n",
      "visibility\n",
      "solarradiation\n",
      "solarenergy\n",
      "uvindex\n",
      "severerisk\n",
      "sunrise\n",
      "sunriseEpoch\n",
      "sunset\n",
      "sunsetEpoch\n",
      "moonphase\n",
      "conditions\n",
      "description\n",
      "icon\n",
      "stations\n",
      "source\n",
      "hours\n"
     ]
    }
   ],
   "source": [
    "for ea in hourly['days'][0]:\n",
    "    print(ea)"
   ]
  },
  {
   "cell_type": "code",
   "execution_count": null,
   "metadata": {},
   "outputs": [],
   "source": []
  }
 ],
 "metadata": {
  "interpreter": {
   "hash": "e7370f93d1d0cde622a1f8e1c04877d8463912d04d973331ad4851f04de6915a"
  },
  "kernelspec": {
   "display_name": "Python 3.9.2 32-bit",
   "language": "python",
   "name": "python3"
  },
  "language_info": {
   "codemirror_mode": {
    "name": "ipython",
    "version": 3
   },
   "file_extension": ".py",
   "mimetype": "text/x-python",
   "name": "python",
   "nbconvert_exporter": "python",
   "pygments_lexer": "ipython3",
   "version": "3.9.2"
  },
  "orig_nbformat": 4
 },
 "nbformat": 4,
 "nbformat_minor": 2
}
