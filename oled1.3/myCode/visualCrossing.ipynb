{
 "cells": [
  {
   "cell_type": "code",
   "execution_count": null,
   "metadata": {},
   "outputs": [],
   "source": [
    "import requests\n",
    "\n",
    "def weatherData():\n",
    "    YOUR_API_KEY = 'PZFJTFL4P37373PK2P7PNJFFT'\n",
    "    url = f'https://weather.visualcrossing.com/VisualCrossingWebServices/rest/services/timeline/Merriam%2C%20KS?unitGroup=us&key={YOUR_API_KEY}&contentType=json'\n",
    "    response = requests.get(url)\n",
    "    d = response.json()\n",
    "\n",
    "    current = round(d['currentConditions']['temp'])\n",
    "    max = round(d['days'][0]['tempmax'])\n",
    "    min = round(d['days'][0]['tempmin'])\n",
    "    conditions = d['days'][0]['conditions']\n",
    "    description = d['days'][0]['description']\n",
    "\n",
    "    deg = u'\\u00b0'\n",
    "    c, mx, mn = len(str(current)), len(str(max)), len(str(min))\n",
    "    space = 12-c-mx-mn\n",
    "    topRow = f\"{current}{deg}{' '*space}{max}{deg}/{min}{deg}\"\n",
    "\n",
    "    return topRow"
   ]
  },
  {
   "cell_type": "code",
   "execution_count": 87,
   "metadata": {},
   "outputs": [],
   "source": [
    "from secrets import secrets\n",
    "\n",
    "def weatherData():\n",
    "    YOUR_API_KEY = secrets['key']\n",
    "    url = f'https://weather.visualcrossing.com/VisualCrossingWebServices/rest/services/timeline/Merriam%2C%20KS?unitGroup=us&key={YOUR_API_KEY}&contentType=json'\n",
    "    response = requests(\"GET\", url)\n",
    "    d = response.json()\n",
    "\n",
    "    current = round(d['currentConditions']['temp'])\n",
    "    max = round(d['days'][0]['tempmax'])\n",
    "    min = round(d['days'][0]['tempmin'])\n",
    "    conditions = d['days'][0]['conditions']\n",
    "    description = d['days'][0]['description']\n",
    "\n",
    "    deg = u'\\u00b0'\n",
    "    c, mx, mn = len(str(current)), len(str(max)), len(str(min))\n",
    "    space = 12-c-mx-mn\n",
    "    topRow = f\"{current}{deg}{' '*space}{max}{deg}/{min}{deg}\"\n",
    "    return topRow\n"
   ]
  },
  {
   "cell_type": "code",
   "execution_count": 13,
   "metadata": {},
   "outputs": [
    {
     "ename": "TypeError",
     "evalue": "list indices must be integers or slices, not dict",
     "output_type": "error",
     "traceback": [
      "\u001b[0;31m---------------------------------------------------------------------------\u001b[0m",
      "\u001b[0;31mTypeError\u001b[0m                                 Traceback (most recent call last)",
      "\u001b[0;32m<ipython-input-13-88beff1d2c4c>\u001b[0m in \u001b[0;36m<module>\u001b[0;34m\u001b[0m\n\u001b[1;32m     16\u001b[0m         \u001b[0;34m'description'\u001b[0m\u001b[0;34m:\u001b[0m \u001b[0md\u001b[0m\u001b[0;34m[\u001b[0m\u001b[0;34m'days'\u001b[0m\u001b[0;34m]\u001b[0m\u001b[0;34m[\u001b[0m\u001b[0;36m0\u001b[0m\u001b[0;34m]\u001b[0m\u001b[0;34m[\u001b[0m\u001b[0;34m'description'\u001b[0m\u001b[0;34m]\u001b[0m\u001b[0;34m\u001b[0m\u001b[0;34m\u001b[0m\u001b[0m\n\u001b[1;32m     17\u001b[0m         },\n\u001b[0;32m---> 18\u001b[0;31m     'daily': [\n\u001b[0m\u001b[1;32m     19\u001b[0m         {\n\u001b[1;32m     20\u001b[0m             \u001b[0;34m'tempmax'\u001b[0m\u001b[0;34m:\u001b[0m \u001b[0md\u001b[0m\u001b[0;34m[\u001b[0m\u001b[0;34m'days'\u001b[0m\u001b[0;34m]\u001b[0m\u001b[0;34m[\u001b[0m\u001b[0mea\u001b[0m\u001b[0;34m]\u001b[0m\u001b[0;34m[\u001b[0m\u001b[0;34m'tempmax'\u001b[0m\u001b[0;34m]\u001b[0m\u001b[0;34m,\u001b[0m\u001b[0;34m\u001b[0m\u001b[0;34m\u001b[0m\u001b[0m\n",
      "\u001b[0;32m<ipython-input-13-88beff1d2c4c>\u001b[0m in \u001b[0;36m<listcomp>\u001b[0;34m(.0)\u001b[0m\n\u001b[1;32m     18\u001b[0m     'daily': [\n\u001b[1;32m     19\u001b[0m         {\n\u001b[0;32m---> 20\u001b[0;31m             \u001b[0;34m'tempmax'\u001b[0m\u001b[0;34m:\u001b[0m \u001b[0md\u001b[0m\u001b[0;34m[\u001b[0m\u001b[0;34m'days'\u001b[0m\u001b[0;34m]\u001b[0m\u001b[0;34m[\u001b[0m\u001b[0mea\u001b[0m\u001b[0;34m]\u001b[0m\u001b[0;34m[\u001b[0m\u001b[0;34m'tempmax'\u001b[0m\u001b[0;34m]\u001b[0m\u001b[0;34m,\u001b[0m\u001b[0;34m\u001b[0m\u001b[0;34m\u001b[0m\u001b[0m\n\u001b[0m\u001b[1;32m     21\u001b[0m             \u001b[0;34m'tempmin'\u001b[0m\u001b[0;34m:\u001b[0m \u001b[0md\u001b[0m\u001b[0;34m[\u001b[0m\u001b[0;34m'days'\u001b[0m\u001b[0;34m]\u001b[0m\u001b[0;34m[\u001b[0m\u001b[0mea\u001b[0m\u001b[0;34m]\u001b[0m\u001b[0;34m[\u001b[0m\u001b[0;34m'tempmin'\u001b[0m\u001b[0;34m]\u001b[0m\u001b[0;34m,\u001b[0m\u001b[0;34m\u001b[0m\u001b[0;34m\u001b[0m\u001b[0m\n\u001b[1;32m     22\u001b[0m             \u001b[0;34m'temp'\u001b[0m\u001b[0;34m:\u001b[0m \u001b[0md\u001b[0m\u001b[0;34m[\u001b[0m\u001b[0;34m'days'\u001b[0m\u001b[0;34m]\u001b[0m\u001b[0;34m[\u001b[0m\u001b[0mea\u001b[0m\u001b[0;34m]\u001b[0m\u001b[0;34m[\u001b[0m\u001b[0;34m'temp'\u001b[0m\u001b[0;34m]\u001b[0m\u001b[0;34m,\u001b[0m\u001b[0;34m\u001b[0m\u001b[0;34m\u001b[0m\u001b[0m\n",
      "\u001b[0;31mTypeError\u001b[0m: list indices must be integers or slices, not dict"
     ]
    }
   ],
   "source": [
    "import requests\n",
    "import json\n",
    "from secrets import secrets\n",
    "\n",
    "YOUR_API_KEY = secrets['key']\n",
    "url = f'https://weather.visualcrossing.com/VisualCrossingWebServices/rest/services/timeline/Merriam%2C%20KS?unitGroup=us&key={YOUR_API_KEY}&contentType=json'\n",
    "response = requests.get(url)\n",
    "d = response.json()\n",
    "\n",
    "resp = {\n",
    "    'current': {\n",
    "        'current': round(d['currentConditions']['temp']),\n",
    "        'max': round(d['days'][0]['tempmax']),\n",
    "        'min': round(d['days'][0]['tempmin']),\n",
    "        'conditions': d['days'][0]['conditions'],\n",
    "        'description': d['days'][0]['description']\n",
    "        },\n",
    "    'daily': [\n",
    "        {\n",
    "            'tempmax': d['days'][ea]['tempmax'],\n",
    "            'tempmin': d['days'][ea]['tempmin'],\n",
    "            'temp': d['days'][ea]['temp'],\n",
    "            'feelslikemax': d['days'][ea]['feellikemax'],\n",
    "            'feelslikemin': d['days'][ea]['feelslikemin'],\n",
    "            'feelslike': d['days'][ea]['feelslike'],\n",
    "            'precip': d['days'][ea]['precip'],\n",
    "            'precipprob': d['days'][ea]['precipprob'],\n",
    "            'preciptype': d['days'][ea]['preciptype'],\n",
    "            'snow': d['days'][ea]['snow'],\n",
    "            'snowdepth': d['days'][ea]['snowdepth'],\n",
    "            'windspeed': d['days'][ea]['windspeed'],\n",
    "            'cloudcover': d['days'][ea]['cloudcover'],\n",
    "            'sunrise': d['days'][ea]['sunrise'],\n",
    "            'sunset': d['days'][ea]['sunset'],\n",
    "            'moonphase': d['days'][ea]['moonphase'],\n",
    "            'conditions': d['days'][ea]['conditions'],\n",
    "            'description': d['days'][ea]['description'],\n",
    "            'icon': d['days'][ea]['icon'],\n",
    "            'hours': d['days'][ea]['hours']\n",
    "        }\n",
    "        for ea in range(0,5)\n",
    "    ]\n",
    "}\n",
    "\n",
    "\n",
    "with open('weatherResponse.json','w') as f:\n",
    "    f.write(json.dumps(resp))\n",
    "f.close()"
   ]
  },
  {
   "cell_type": "code",
   "execution_count": 10,
   "metadata": {},
   "outputs": [
    {
     "name": "stdout",
     "output_type": "stream",
     "text": [
      "5\n",
      "clear-day\n",
      "clear-day\n",
      "clear-day\n",
      "clear-day\n",
      "partly-cloudy-day\n"
     ]
    },
    {
     "data": {
      "text/plain": [
       "'\\ntempmax\\ntempmin\\ntemp\\nfeelslikemax\\nfeelslikemin\\nfeelslike\\nprecip\\nprecipprob\\npreciptype\\nsnow\\nsnowdepth\\nwindspeed\\ncloudcover\\nsunrise\\nsunset\\nmoonphase\\nconditions\\ndescription\\nicon\\nhours\\n'"
      ]
     },
     "execution_count": 10,
     "metadata": {},
     "output_type": "execute_result"
    }
   ],
   "source": [
    "days = d['days'][0:5]\n",
    "print(len(days))\n",
    "for ea in days:\n",
    "    print(ea['icon'])\n",
    "'''\n",
    "tempmax\n",
    "tempmin\n",
    "temp\n",
    "feelslikemax\n",
    "feelslikemin\n",
    "feelslike\n",
    "precip\n",
    "precipprob\n",
    "preciptype\n",
    "snow\n",
    "snowdepth\n",
    "windspeed\n",
    "cloudcover\n",
    "sunrise\n",
    "sunset\n",
    "moonphase\n",
    "conditions\n",
    "description\n",
    "icon\n",
    "hours\n",
    "'''"
   ]
  }
 ],
 "metadata": {
  "kernelspec": {
   "display_name": "Python 3.9.2 32-bit",
   "language": "python",
   "name": "python3"
  },
  "language_info": {
   "codemirror_mode": {
    "name": "ipython",
    "version": 3
   },
   "file_extension": ".py",
   "mimetype": "text/x-python",
   "name": "python",
   "nbconvert_exporter": "python",
   "pygments_lexer": "ipython3",
   "version": "3.9.2"
  },
  "orig_nbformat": 4,
  "vscode": {
   "interpreter": {
    "hash": "e7370f93d1d0cde622a1f8e1c04877d8463912d04d973331ad4851f04de6915a"
   }
  }
 },
 "nbformat": 4,
 "nbformat_minor": 2
}
