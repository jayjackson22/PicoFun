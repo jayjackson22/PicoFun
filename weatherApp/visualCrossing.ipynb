{
 "cells": [
  {
   "cell_type": "code",
   "execution_count": null,
   "metadata": {},
   "outputs": [],
   "source": [
    "import requests\n",
    "\n",
    "def weatherData():\n",
    "    YOUR_API_KEY = 'PZFJTFL4P37373PK2P7PNJFFT'\n",
    "    url = f'https://weather.visualcrossing.com/VisualCrossingWebServices/rest/services/timeline/Merriam%2C%20KS?unitGroup=us&key={YOUR_API_KEY}&contentType=json'\n",
    "    response = requests.get(url)\n",
    "    d = response.json()\n",
    "\n",
    "    current = round(d['currentConditions']['temp'])\n",
    "    max = round(d['days'][0]['tempmax'])\n",
    "    min = round(d['days'][0]['tempmin'])\n",
    "    conditions = d['days'][0]['conditions']\n",
    "    description = d['days'][0]['description']\n",
    "\n",
    "    deg = u'\\u00b0'\n",
    "    c, mx, mn = len(str(current)), len(str(max)), len(str(min))\n",
    "    space = 12-c-mx-mn\n",
    "    topRow = f\"{current}{deg}{' '*space}{max}{deg}/{min}{deg}\"\n",
    "\n",
    "    return topRow"
   ]
  },
  {
   "cell_type": "code",
   "execution_count": 87,
   "metadata": {},
   "outputs": [],
   "source": [
    "from secrets import secrets\n",
    "\n",
    "def weatherData():\n",
    "    YOUR_API_KEY = secrets['key']\n",
    "    url = f'https://weather.visualcrossing.com/VisualCrossingWebServices/rest/services/timeline/Merriam%2C%20KS?unitGroup=us&key={YOUR_API_KEY}&contentType=json'\n",
    "    response = requests(\"GET\", url)\n",
    "    d = response.json()\n",
    "\n",
    "    current = round(d['currentConditions']['temp'])\n",
    "    max = round(d['days'][0]['tempmax'])\n",
    "    min = round(d['days'][0]['tempmin'])\n",
    "    conditions = d['days'][0]['conditions']\n",
    "    description = d['days'][0]['description']\n",
    "\n",
    "    deg = u'\\u00b0'\n",
    "    c, mx, mn = len(str(current)), len(str(max)), len(str(min))\n",
    "    space = 12-c-mx-mn\n",
    "    topRow = f\"{current}{deg}{' '*space}{max}{deg}/{min}{deg}\"\n",
    "    return topRow\n"
   ]
  },
  {
   "cell_type": "code",
   "execution_count": 88,
   "metadata": {},
   "outputs": [
    {
     "ename": "TypeError",
     "evalue": "weatherData() missing 1 required positional argument: 'b'",
     "output_type": "error",
     "traceback": [
      "\u001b[0;31m---------------------------------------------------------------------------\u001b[0m",
      "\u001b[0;31mTypeError\u001b[0m                                 Traceback (most recent call last)",
      "\u001b[0;32m<ipython-input-88-38be52e1b3c6>\u001b[0m in \u001b[0;36m<module>\u001b[0;34m\u001b[0m\n\u001b[0;32m----> 1\u001b[0;31m \u001b[0mweatherData\u001b[0m\u001b[0;34m(\u001b[0m\u001b[0;34m)\u001b[0m\u001b[0;34m\u001b[0m\u001b[0;34m\u001b[0m\u001b[0m\n\u001b[0m",
      "\u001b[0;31mTypeError\u001b[0m: weatherData() missing 1 required positional argument: 'b'"
     ]
    }
   ],
   "source": [
    "weatherData()"
   ]
  }
 ],
 "metadata": {
  "kernelspec": {
   "display_name": "Python 3.9.2 32-bit",
   "language": "python",
   "name": "python3"
  },
  "language_info": {
   "codemirror_mode": {
    "name": "ipython",
    "version": 3
   },
   "file_extension": ".py",
   "mimetype": "text/x-python",
   "name": "python",
   "nbconvert_exporter": "python",
   "pygments_lexer": "ipython3",
   "version": "3.9.2"
  },
  "orig_nbformat": 4,
  "vscode": {
   "interpreter": {
    "hash": "e7370f93d1d0cde622a1f8e1c04877d8463912d04d973331ad4851f04de6915a"
   }
  }
 },
 "nbformat": 4,
 "nbformat_minor": 2
}
